{
 "cells": [
  {
   "cell_type": "markdown",
   "id": "c2e63e52",
   "metadata": {},
   "source": [
    "<h1>Leyendo y Escribiendo archivos en Python</h1>"
   ]
  },
  {
   "cell_type": "markdown",
   "id": "785a89ba",
   "metadata": {},
   "source": [
    "Este cuaderno le enseñará a leer y escribir un archivo en Python. Al final de este laboratorio, sabrá cómo leer archivos de texto salvar las variables de su interés en un archivo etc."
   ]
  },
  {
   "cell_type": "markdown",
   "id": "ff97e5a8",
   "metadata": {},
   "source": [
    "<h2>Contenido</h2>\n",
    "<div class=\"alert alert-block alert-info\" style=\"margin-top: 20px\">\n",
    "    <ul>\n",
    "        <li><a href=\"dwnld\">Bajar datos</a></li>\n",
    "        <li><a href=\"read\">Leer archivos de texto</a></li>\n",
    "        <li><a href=\"better\">Una mejor forma de abrir archivos</a></li>\n",
    "        <li><a href=\"write\">Escribir y Guardar archivos</a></li>\n",
    "        <li><a href=\"shelve\">Uso de Pickle y Shelve para salvar datos</a></li>     \n",
    "    </ul>\n",
    "    <p>\n",
    "        Tiempo estimado: <strong>40 min</strong>\n",
    "    </p>\n",
    "</div>\n",
    "\n",
    "<hr>"
   ]
  },
  {
   "cell_type": "markdown",
   "id": "09f4d998",
   "metadata": {},
   "source": [
    "<h3 id=\"dwnld\"> Bajar datos de una URL de internet</h3>"
   ]
  },
  {
   "cell_type": "markdown",
   "id": "150ba08d",
   "metadata": {},
   "source": [
    "Vamos a bajar un archivo de internet con wget, noten que para correr un comando de shell debo anteponer un <code>!</code> para que el interpreter lo tome como comando del sistema no de Python"
   ]
  },
  {
   "cell_type": "code",
   "execution_count": null,
   "id": "1fdcfc8b",
   "metadata": {},
   "outputs": [],
   "source": [
    "# Bajar un archivo del repositorio de GitHub\n",
    "\n",
    "!wget -O untexto.txt https://github.com/joiinar35/curso_ML/blob/main/untexto.txt"
   ]
  },
  {
   "cell_type": "markdown",
   "id": "c36871e7",
   "metadata": {},
   "source": [
    "<h3 id='read'>Leyendo archivos de texto</h3>"
   ]
  },
  {
   "cell_type": "markdown",
   "id": "143aceef",
   "metadata": {},
   "source": [
    "Una forma de leer o escribir un archivo en Python es usar la función <code>open</code> incorporada. La función <code>open</code> proporciona un objeto File que contiene los métodos y atributos que necesita para leer, guardar y manipular el archivo. En este cuaderno, solo cubriremos archivos txt y csv. El primer parámetro que necesita es la ruta del archivo y el nombre del archivo. A continuación se muestra un ejemplo:"
   ]
  },
  {
   "cell_type": "markdown",
   "id": "69f70874",
   "metadata": {},
   "source": [
    "<img src=\"https://s3-api.us-geo.objectstorage.softlayer.net/cf-courses-data/CognitiveClass/PY0101EN/Chapter%204/Images/ReadOpen.png\" width=\"500\" />"
   ]
  },
  {
   "cell_type": "markdown",
   "id": "384a5bca",
   "metadata": {},
   "source": [
    " El argumento de modo es opcional y su valor por defecto es <b>r</b>. Aqui solo cubiremos los modos: \n",
    "<ul>\n",
    "    <li><b>r</b> Read mode para leer archivos </li>\n",
    "    <li><b>w</b> Write mode para escritura</li>\n",
    "    <li><b>a</b> Append mode para adicionar info a un archivo ya existente</li>\n",
    "</ul>"
   ]
  },
  {
   "cell_type": "code",
   "execution_count": null,
   "id": "502eff0e",
   "metadata": {},
   "outputs": [],
   "source": [
    "# Leer el archivo untext.txt y asignarlo a la variable example1\n",
    "\n",
    "example1 = \"untexto.txt\"\n",
    "file1 = open(example1, \"r\")"
   ]
  },
  {
   "cell_type": "markdown",
   "id": "88bcacae",
   "metadata": {},
   "source": [
    "<p>Podemos checar los atributos de un archivo</p>"
   ]
  },
  {
   "cell_type": "code",
   "execution_count": null,
   "id": "85902037",
   "metadata": {},
   "outputs": [],
   "source": [
    "# imprime el path del archivo\n",
    "\n",
    "file1.name"
   ]
  },
  {
   "cell_type": "code",
   "execution_count": null,
   "id": "c7d60456",
   "metadata": {},
   "outputs": [],
   "source": [
    "# imprime el modo del archivo,  'r', 'w' o 'a'\n",
    "\n",
    "file1.mode"
   ]
  },
  {
   "cell_type": "code",
   "execution_count": null,
   "id": "6a276e7c",
   "metadata": {},
   "outputs": [],
   "source": [
    "# Leemos el archivo y lo asaignamos a una variable\n",
    "\n",
    "FileContent = file1.read()\n",
    "FileContent"
   ]
  },
  {
   "cell_type": "markdown",
   "id": "0ba30f53",
   "metadata": {},
   "source": [
    "<p>El <code>\\n</code> significa que fin de línea. Podemos imprimir el archivo en una forma mas prolija"
   ]
  },
  {
   "cell_type": "code",
   "execution_count": null,
   "id": "0a4586ac",
   "metadata": {},
   "outputs": [],
   "source": [
    "# Imprime el archivo formateado correctamente\n",
    "\n",
    "print(FileContent)"
   ]
  },
  {
   "cell_type": "code",
   "execution_count": null,
   "id": "fcc3c3fe",
   "metadata": {},
   "outputs": [],
   "source": [
    "# Tipo del archivo FileContent\n",
    "\n",
    "type(FileContent)"
   ]
  },
  {
   "cell_type": "markdown",
   "id": "227c1f0a",
   "metadata": {},
   "source": [
    "Debemos cerrar el objeto file1"
   ]
  },
  {
   "cell_type": "code",
   "execution_count": null,
   "id": "74f58185",
   "metadata": {},
   "outputs": [],
   "source": [
    "# Cierro el objeto file1 al terminar\n",
    "\n",
    "file1.close()"
   ]
  },
  {
   "cell_type": "markdown",
   "id": "ac4eef98",
   "metadata": {},
   "source": [
    "Esta forma de operar es un poco peligrosa debido a que si olvide cerrar el archivo al terminar u ocurre un fallo en la lectura/escritura del archivo puede que el proceso quede colgado indefinidamente."
   ]
  },
  {
   "cell_type": "markdown",
   "id": "8247c66d",
   "metadata": {},
   "source": [
    "<h3 id='better'>Una mejor manera de abrir un archivo</h3>\n",
    "<p>El uso de la instrucción <code>with</code> es una práctica recomendada, ya que cierra automáticamente el archivo incluso si el código encuentra una excepción. El código ejecutará todo lo que haya en el bloque de sangría y, a continuación, cerrará el objeto de archivo.</p>"
   ]
  },
  {
   "cell_type": "code",
   "execution_count": null,
   "id": "aca40cd3",
   "metadata": {},
   "outputs": [],
   "source": [
    "# Abre un archivo usando  \"with\"\n",
    "\n",
    "with open(example1, \"r\") as file1:\n",
    "    FileContent = file1.read()\n",
    "    print(FileContent)"
   ]
  },
  {
   "cell_type": "markdown",
   "id": "4fe7385f",
   "metadata": {},
   "source": [
    "Podemos checar que el objeto file1 esta cerrado haciendo:"
   ]
  },
  {
   "cell_type": "code",
   "execution_count": null,
   "id": "68c280c0",
   "metadata": {},
   "outputs": [],
   "source": [
    "# Verifico que el objeto file1 esta cerrado\n",
    "\n",
    "file1.closed"
   ]
  },
  {
   "cell_type": "code",
   "execution_count": null,
   "id": "46c9446a",
   "metadata": {},
   "outputs": [],
   "source": [
    "# Imprimimos el contenido del archivo\n",
    "\n",
    "print(FileContent)"
   ]
  },
  {
   "cell_type": "markdown",
   "id": "be23f178",
   "metadata": {},
   "source": [
    "La sintaxis puede resultar un poco confusa ya que el objeto de archivo está después de la instrucción <code>as</code>. Tampoco cerramos explícitamente el archivo. Por lo tanto, resumimos los pasos en una figura:"
   ]
  },
  {
   "cell_type": "markdown",
   "id": "2f1b6353",
   "metadata": {},
   "source": [
    "<img src=\"https://s3-api.us-geo.objectstorage.softlayer.net/cf-courses-data/CognitiveClass/PY0101EN/Chapter%204/Images/ReadWith.png\" width=\"500\" />"
   ]
  },
  {
   "cell_type": "markdown",
   "id": "32a185c2",
   "metadata": {},
   "source": [
    "No tenemos que leer todo el archivo, por ejemplo, podemos leer los primeros 4 caracteres introduciendo tres como parámetro en el método **.read()**:"
   ]
  },
  {
   "cell_type": "code",
   "execution_count": null,
   "id": "a37a0160",
   "metadata": {},
   "outputs": [],
   "source": [
    "# Leer los primeros cuatro caracteres\n",
    "\n",
    "with open(example1, \"r\") as file1:\n",
    "    print(file1.read(4))"
   ]
  },
  {
   "cell_type": "markdown",
   "id": "2fb33517",
   "metadata": {},
   "source": [
    "Una vez que se invoca el método <code>.read(4)</code>, se devuelven los primeros 4 caracteres. Si volvemos a invocar al método, se llama a los siguientes 4 caracteres. La salida de la siguiente celda demostrará el proceso para diferentes entradas al método <code>read()</code>:"
   ]
  },
  {
   "cell_type": "code",
   "execution_count": null,
   "id": "b3cd37a4",
   "metadata": {},
   "outputs": [],
   "source": [
    "# Leer cierta cantidades de caracateres\n",
    "\n",
    "with open(example1, \"r\") as file1:\n",
    "    print(file1.read(4))\n",
    "    print(file1.read(4))\n",
    "    print(file1.read(7))\n",
    "    print(file1.read(15))"
   ]
  },
  {
   "cell_type": "markdown",
   "id": "a0cda7ea",
   "metadata": {},
   "source": [
    "El proceso se ilustra en la siguiente figura, y cada color representa la parte del archivo que se lee después de que se llama al método <code>read()</code>:"
   ]
  },
  {
   "cell_type": "markdown",
   "id": "5984c8d4",
   "metadata": {},
   "source": [
    "<img src=\"https://s3-api.us-geo.objectstorage.softlayer.net/cf-courses-data/CognitiveClass/PY0101EN/Chapter%204/Images/ReadChar.png\" width=\"500\" />"
   ]
  },
  {
   "cell_type": "markdown",
   "id": "dd004015",
   "metadata": {},
   "source": [
    "Aquí hay un ejemplo usando el mismo archivo, pero en su lugar leemos 16, 5 y luego 9 caracteres a la vez:"
   ]
  },
  {
   "cell_type": "code",
   "execution_count": null,
   "id": "c6c3052a",
   "metadata": {},
   "outputs": [],
   "source": [
    "# Leer cierta cantidades de caracateres\n",
    "\n",
    "with open(example1, \"r\") as file1:\n",
    "    print(file1.read(16))\n",
    "    print(file1.read(5))\n",
    "    print(file1.read(9))"
   ]
  },
  {
   "cell_type": "code",
   "execution_count": null,
   "id": "bd0421a4",
   "metadata": {},
   "outputs": [],
   "source": [
    "# Read certain amount of characters\n",
    "\n",
    "with open(example1, \"r\") as file1:\n",
    "    print(file1.read(16))\n",
    "    print(file1.read(5))\n",
    "    print(file1.read(9))"
   ]
  },
  {
   "cell_type": "markdown",
   "id": "edd2b912",
   "metadata": {},
   "source": [
    "También podemos leer una línea del archivo a la vez usando el método <code>readline()</code>:"
   ]
  },
  {
   "cell_type": "code",
   "execution_count": null,
   "id": "f59099e7",
   "metadata": {},
   "outputs": [],
   "source": [
    "# Leer una linea\n",
    "\n",
    "with open(example1, \"r\") as file1:\n",
    "    print(\"first line: \" + file1.readline())"
   ]
  },
  {
   "cell_type": "markdown",
   "id": "6a40e1b0",
   "metadata": {},
   "source": [
    "Podemos usar un bucle para iterar a través de cada línea:"
   ]
  },
  {
   "cell_type": "code",
   "execution_count": null,
   "id": "897c2bb6",
   "metadata": {},
   "outputs": [],
   "source": [
    "# Itera a traves de las lineas\n",
    "\n",
    "with open(example1,\"r\") as file1:\n",
    "        i = 0;\n",
    "        for line in file1:\n",
    "            print(\"Iteration\", str(i), \": \", line)\n",
    "            i = i + 1;"
   ]
  },
  {
   "cell_type": "markdown",
   "id": "b1e4e7a6",
   "metadata": {},
   "source": [
    "Podemos usar el método <code>readlines()</code> para guardar el archivo de texto en una lista:"
   ]
  },
  {
   "cell_type": "code",
   "execution_count": null,
   "id": "d58968a6",
   "metadata": {},
   "outputs": [],
   "source": [
    "# Lee todas las lineas de texto y lo salva como una lista\n",
    "\n",
    "with open(example1, \"r\") as file1:\n",
    "    FileasList = file1.readlines()"
   ]
  },
  {
   "cell_type": "markdown",
   "id": "99b38028",
   "metadata": {},
   "source": [
    "Cada elemento de la lista corresponde a una línea de texto:"
   ]
  },
  {
   "cell_type": "code",
   "execution_count": null,
   "id": "4881ecb1",
   "metadata": {},
   "outputs": [],
   "source": [
    "# Imprimir la 1a linea\n",
    "\n",
    "FileasList[0]"
   ]
  },
  {
   "cell_type": "code",
   "execution_count": null,
   "id": "4117a647",
   "metadata": {},
   "outputs": [],
   "source": [
    "# Imprime la 2da Linea\n",
    "\n",
    "FileasList[1]"
   ]
  },
  {
   "cell_type": "code",
   "execution_count": null,
   "id": "9ca5f4ef",
   "metadata": {},
   "outputs": [],
   "source": [
    "# Imprime la 3ra linea\n",
    "\n",
    "FileasList[2]"
   ]
  },
  {
   "cell_type": "markdown",
   "id": "298446e2",
   "metadata": {},
   "source": [
    "<h3> Escribir y Guardar Archivos</h3>"
   ]
  },
  {
   "cell_type": "markdown",
   "id": "fcaac76e",
   "metadata": {},
   "source": [
    "Podemos abrir un objeto de archivo usando el método <code>write()</code> para guardar el archivo de texto en una lista. Para escribir el modo, el argumento debe establecerse en escribir <b>w</b>. Escribamos un archivo <b>Example2.txt</b> con la línea: \"Esta es la línea A\""
   ]
  },
  {
   "cell_type": "code",
   "execution_count": null,
   "id": "c0006e7e",
   "metadata": {},
   "outputs": [],
   "source": [
    "# Escribe una linea al archivo \n",
    "\n",
    "with open('/resources/data/Example2.txt', 'w') as writefile:\n",
    "    writefile.write(\"Esta es la linea A\")"
   ]
  },
  {
   "cell_type": "markdown",
   "id": "1698122f",
   "metadata": {},
   "source": [
    "Podemos leer el archivo para ver si funcionó:"
   ]
  },
  {
   "cell_type": "code",
   "execution_count": null,
   "id": "3c297d74",
   "metadata": {
    "jupyter": {
     "outputs_hidden": false
    }
   },
   "outputs": [],
   "source": [
    "# Leo el archivo\n",
    "\n",
    "with open('/resources/data/Example2.txt', 'r') as testwritefile:\n",
    "    print(testwritefile.read())"
   ]
  },
  {
   "cell_type": "markdown",
   "id": "1bb4e70b",
   "metadata": {},
   "source": [
    "Podemos escribir multiple lineas:"
   ]
  },
  {
   "cell_type": "code",
   "execution_count": null,
   "id": "1fed717c",
   "metadata": {
    "scrolled": true
   },
   "outputs": [],
   "source": [
    "# Escribo lineas al archivo\n",
    "\n",
    "with open('/resources/data/Example2.txt', 'w') as writefile:\n",
    "    writefile.write(\"Esta es la linea A\\n\")\n",
    "    writefile.write(\"Esta es la linea B\\n\")"
   ]
  },
  {
   "cell_type": "markdown",
   "id": "0b2d0384",
   "metadata": {},
   "source": [
    "El método <code>.write()</code> funciona de manera similar al método <code>.readline()</code>, excepto que en lugar de leer una nueva línea, escribe una nueva línea. El proceso se ilustra en la figura, el código de colores diferente de la cuadrícula representa una nueva línea agregada al archivo después de cada llamada al método."
   ]
  },
  {
   "cell_type": "markdown",
   "id": "7abe3fde",
   "metadata": {},
   "source": [
    "<img src=\"https://s3-api.us-geo.objectstorage.softlayer.net/cf-courses-data/CognitiveClass/PY0101EN/Chapter%204/Images/WriteLine.png\" width=\"500\" />"
   ]
  },
  {
   "cell_type": "markdown",
   "id": "99ce037b",
   "metadata": {},
   "source": [
    "Podemos checar si el resultado es el correcto"
   ]
  },
  {
   "cell_type": "code",
   "execution_count": null,
   "id": "30b600c3",
   "metadata": {
    "jupyter": {
     "outputs_hidden": false
    }
   },
   "outputs": [],
   "source": [
    "# Checo si escribio el archivo\n",
    "\n",
    "with open('/resources/data/Example2.txt', 'r') as testwritefile:\n",
    "    print(testwritefile.read())"
   ]
  },
  {
   "cell_type": "markdown",
   "id": "be1d45ce",
   "metadata": {},
   "source": [
    " Al establecer el argumento mode para anexar **a**, puede anexar una nueva línea de la siguiente manera:"
   ]
  },
  {
   "cell_type": "code",
   "execution_count": null,
   "id": "44c37553",
   "metadata": {
    "jupyter": {
     "outputs_hidden": false
    }
   },
   "outputs": [],
   "source": [
    "# Anexa una nueva liena de texto al archivo\n",
    "\n",
    "with open('/resources/data/Example2.txt', 'a') as testwritefile:\n",
    "    testwritefile.write(\"This is line C\\n\")"
   ]
  },
  {
   "cell_type": "markdown",
   "id": "666ee693",
   "metadata": {},
   "source": [
    "Puede verificar que el archivo ha cambiado ejecutando la siguiente celda:"
   ]
  },
  {
   "cell_type": "code",
   "execution_count": null,
   "id": "cbde9015",
   "metadata": {
    "jupyter": {
     "outputs_hidden": false
    }
   },
   "outputs": [],
   "source": [
    "# Verifique si la nueva línea está en el archivo de texto\n",
    "\n",
    "with open('/resources/data/Example2.txt', 'r') as testwritefile:\n",
    "    print(testwritefile.read())"
   ]
  },
  {
   "cell_type": "markdown",
   "id": "16e4cf02",
   "metadata": {},
   "source": [
    "Podemos salvar la lista a un archivo de texto <b>.txt</b> como sigue:"
   ]
  },
  {
   "cell_type": "code",
   "execution_count": null,
   "id": "26dcc206",
   "metadata": {
    "jupyter": {
     "outputs_hidden": false
    }
   },
   "outputs": [],
   "source": [
    "# Lista de textos\n",
    "\n",
    "Lines = [\"This is line A\\n\", \"This is line B\\n\", \"This is line C\\n\"]\n",
    "Lines"
   ]
  },
  {
   "cell_type": "code",
   "execution_count": null,
   "id": "5e700fe1",
   "metadata": {
    "jupyter": {
     "outputs_hidden": false
    }
   },
   "outputs": [],
   "source": [
    "# Escriba los elementos de la lista en un archivo de texto\n",
    "\n",
    "with open('Example2.txt', 'w') as writefile:\n",
    "    for line in Lines:\n",
    "        print(line)\n",
    "        writefile.write(line)"
   ]
  },
  {
   "cell_type": "markdown",
   "id": "1d34188f",
   "metadata": {},
   "source": [
    " Podemos verificar que el archivo está escrito leyéndolo e imprimiendo los valores:"
   ]
  },
  {
   "cell_type": "code",
   "execution_count": null,
   "id": "3dd00ca5",
   "metadata": {
    "jupyter": {
     "outputs_hidden": false
    }
   },
   "outputs": [],
   "source": [
    "# Comprobar si la escritura en el archivo se ha ejecutado correctamente\n",
    "\n",
    "with open('Example2.txt', 'r') as testwritefile:\n",
    "    print(testwritefile.read())"
   ]
  },
  {
   "cell_type": "markdown",
   "id": "447a7ecc",
   "metadata": {},
   "source": [
    "Podemos volver a añadir al archivo cambiando el segundo parámetro <b>r</b> a <b>a</b>. Esto agrega el código:"
   ]
  },
  {
   "cell_type": "code",
   "execution_count": null,
   "id": "790852a8",
   "metadata": {
    "jupyter": {
     "outputs_hidden": false
    }
   },
   "outputs": [],
   "source": [
    "# Anexa una linea mas al archivo\n",
    "\n",
    "with open('Example2.txt', 'a') as testwritefile:\n",
    "    testwritefile.write(\"This is line D\\n\")"
   ]
  },
  {
   "cell_type": "markdown",
   "id": "34b359b9",
   "metadata": {},
   "source": [
    "We can see the results of appending the file: "
   ]
  },
  {
   "cell_type": "code",
   "execution_count": null,
   "id": "94f36827",
   "metadata": {
    "jupyter": {
     "outputs_hidden": false
    }
   },
   "outputs": [],
   "source": [
    "# Compruebe si la anexión se ha ejecutado correctamente\n",
    "\n",
    "with open('Example2.txt', 'r') as testwritefile:\n",
    "    print(testwritefile.read())"
   ]
  },
  {
   "cell_type": "markdown",
   "id": "77b30cf5",
   "metadata": {},
   "source": [
    "<h3 id='shelve'>Uso de Pickle y Shelve para salvar datos</h3>"
   ]
  },
  {
   "cell_type": "markdown",
   "id": "a3f45c0e",
   "metadata": {},
   "source": [
    "En Python podemos slavar nuestras variables luego de una sesión de trabajo mediante dos formas:\n",
    "- <b>Mediante el uso de pickle:</b> los objetos se salvan como un flujo de bits en un único archivo binario\n",
    "- <b>Mediante el uso de shelve:</b>  Shelve actúa sobre pickle e implementa un diccionario de serialización donde los objetos son \"pickleados\" y asociados con una clave. Por los tanto, podemos cargar nuestros datos \"shelved\" y acceder a cada uno de los objetos guardados mediante claves com0o si se tratara de un diccionario.\n",
    "\n",
    "Pikle es útil para salvar una variable. Como alternativa para salvar muchas variables con Pickle, es construir un diccionario con las variables que deseamos guardar y serializar el diccionario entero.\n",
    "Desde el punto de vista operativo la cantidad de trabajo es similar, PERO shelve a algunos les resulta más intuitivo.\n",
    "\n",
    "Todos los archivos pickle y shelve se guardan en general con extensión <b>.p</b> y <b>.db</b> en Python 3"
   ]
  },
  {
   "cell_type": "code",
   "execution_count": null,
   "id": "9ae3d573",
   "metadata": {},
   "outputs": [],
   "source": [
    "# importamos el modulo pickle\n",
    "import pickle\n",
    "\n",
    "# creamos una lista de nombres\n",
    "name_list = ['Ana', 'Monica', 'Juan', 'Pedro', 'Carlos', 'Tita']\n",
    "\n",
    "# Salvamos el objeto 'names'\n",
    "\n",
    "with open('arch_pickle.p', 'wb') as pfile:\n",
    "    pickle.dump(name_list, pfile)\n",
    "    pfile.close()"
   ]
  },
  {
   "cell_type": "markdown",
   "id": "7fecf224",
   "metadata": {},
   "source": [
    "Checamos que se haya creado el archivo <b>.p</b>"
   ]
  },
  {
   "cell_type": "code",
   "execution_count": null,
   "id": "6a10b451",
   "metadata": {},
   "outputs": [],
   "source": [
    "# importamos el modulo pickle (si ya se importo no lo hacemos)\n",
    "\n",
    "import pickle\n",
    "\n",
    "with open('arch_pickle.p', 'rb') as pfile:\n",
    "    name_list = pickle.load(pfile)\n",
    "    print(name_list)\n",
    "    pfile.close()"
   ]
  },
  {
   "cell_type": "markdown",
   "id": "3ac75956",
   "metadata": {},
   "source": [
    "Ahora usaremos <b>shelve</b> para salvar un par de variables predefinidas"
   ]
  },
  {
   "cell_type": "code",
   "execution_count": null,
   "id": "852582ff",
   "metadata": {},
   "outputs": [],
   "source": [
    "# Creamos un par de objetos\n",
    "\n",
    "# Una lista de nombres\n",
    "name_list = ['Ana', 'Monica', 'Juan', 'Pedro', 'Carlos', 'Tita']\n",
    "\n",
    "# Un archivo de texto\n",
    "\n",
    "\n",
    "!wget -O untexto.txt  https://github.com/joiinar35/curso_ML/raw/refs/heads/main/untexto.txt\n",
    "\n",
    "with open('untexto.txt', 'r') as txtfile:\n",
    "    example = txtfile.read()\n",
    "    print(example)\n",
    "    \n",
    "    \n"
   ]
  },
  {
   "cell_type": "code",
   "execution_count": null,
   "id": "6e0b1cf0",
   "metadata": {},
   "outputs": [],
   "source": [
    "# Salvo amba variables en un archivo shelve\n",
    "import shelve\n",
    "\n",
    "with shelve.open('arch_shelve.dat', 'c') as shelf:\n",
    "    shelf['name_list'] = name_list\n",
    "    shelf['example'] = example    \n"
   ]
  },
  {
   "cell_type": "markdown",
   "id": "08ba3184",
   "metadata": {},
   "source": [
    "Checamos que se haya creado el archivo <b>.dat.db</b> y listamos las claves"
   ]
  },
  {
   "cell_type": "code",
   "execution_count": null,
   "id": "3e5286e9",
   "metadata": {},
   "outputs": [],
   "source": [
    "import shelve\n",
    "\n",
    "with shelve.open('arch_shelve.dat', 'r') as shelf:\n",
    "    for key in shelf.keys():\n",
    "        print(shelf[key])"
   ]
  },
  {
   "cell_type": "markdown",
   "id": "ef7bf130",
   "metadata": {},
   "source": [
    "Podemos ir recuperando las variables mediante sus claves "
   ]
  },
  {
   "cell_type": "code",
   "execution_count": null,
   "id": "356925e9",
   "metadata": {},
   "outputs": [],
   "source": [
    "with shelve.open('arch_shelve.dat', 'r') as shelf:\n",
    "    name_list = shelf['name_list']\n",
    "    example = shelf['example']"
   ]
  },
  {
   "cell_type": "markdown",
   "id": "d655b791",
   "metadata": {},
   "source": [
    "### Funciones disponibles con Shelve"
   ]
  },
  {
   "cell_type": "markdown",
   "id": "76f9dd0f",
   "metadata": {},
   "source": [
    "|Method| Description |\n",
    "|------|-------------------------------------|\n",
    "|<b>open()</b>| Open persistent dictionary object |\n",
    "|<b>close()</b>| Synchronize and close persistent dictionary objects. |\n",
    "|<b>sync()</b>| Write back all entries in the cache since the shelf was opened with the writeback set to True. |\n",
    "|<b>get()</b>| Returns value associated with a key |\n",
    "|<b>items()</b>| Tuples list |\n",
    "|<b>keys()</b>|\tList of shelf keys |\n",
    "|<b>pop()</b>| Remove the specified key and return the corresponding value.|\n",
    "|<b>update()</b>| Update shelf from another dictionary/iterable |\n",
    "|<b>values()</b>| List of shelf values |"
   ]
  },
  {
   "cell_type": "markdown",
   "id": "f11e54c4",
   "metadata": {},
   "source": [
    "<b>Felicidades!</b> llegaste al ultimo ejercicio"
   ]
  },
  {
   "cell_type": "code",
   "execution_count": null,
   "id": "e8fb54f2",
   "metadata": {},
   "outputs": [],
   "source": []
  }
 ],
 "metadata": {
  "kernelspec": {
   "display_name": "Python 3 (ipykernel)",
   "language": "python",
   "name": "python3"
  },
  "language_info": {
   "codemirror_mode": {
    "name": "ipython",
    "version": 3
   },
   "file_extension": ".py",
   "mimetype": "text/x-python",
   "name": "python",
   "nbconvert_exporter": "python",
   "pygments_lexer": "ipython3",
   "version": "3.11.2"
  }
 },
 "nbformat": 4,
 "nbformat_minor": 5
}
