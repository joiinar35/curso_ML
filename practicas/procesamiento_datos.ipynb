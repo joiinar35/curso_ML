{
 "cells": [
  {
   "cell_type": "markdown",
   "metadata": {
    "id": "U2BzOnSreYCS"
   },
   "source": [
    "<h1>Acceso y Procesamiento de Datos en Python</h1>"
   ]
  },
  {
   "cell_type": "markdown",
   "metadata": {},
   "source": [
    "<h2>Tabla de Contenido</h2>\n",
    "<div class=\"alert alert-block alert-info\" style=\"margin-top: 20px\">\n",
    "    <ul>\n",
    "        <li><a href=\"csv\">Importar datos csv</a></li>\n",
    "        <li><a href=\"estbas\">Estadisticas Básicas de un Dataset</a></li>\n",
    "        <li><a href=\"xls\">Cargando un archivo Excel</a></li>\n",
    "        <li><a href=\"json\">Cargando un archivo Json</a></li>\n",
    "        <li><a href=\"bdacc\">Accesando una Base de Datos Relacional</a></li>\n",
    "        <li><a href=\"filtro\">Filtrando un DataFrame Pandas</a></li>\n",
    "    </ul>\n",
    "    <p>\n",
    "        Tiempo estimado: <strong>90 min</strong>\n",
    "    </p>\n",
    "</div>\n",
    "\n",
    "<hr>"
   ]
  },
  {
   "cell_type": "markdown",
   "metadata": {
    "id": "5xkoAIzVok_W"
   },
   "source": [
    "# **Importante**\n",
    "Vamos a trabajar con los archivos\n",
    " Es importante que se copien los datasets de prueba siguientes:\n",
    "\n",
    "1.   datos_2025-03-17 QRO.csv\n",
    "2.   literacy_birth_rate.xlsx\n",
    "3.   mtcars.json\n",
    "\n",
    "ubicados en la siguiente url:\n",
    "https://github.com/joiinar35/curso_ML/tree/main/datasets/proc_datos\n",
    "\n",
    "loa archivos se pueden bajar con `!wget -O`  como en el notebook previo\n",
    "\n",
    "Prueben cargar el paquete **urllib** o **requests** y bajarse estos archivos directo a un DataFrame también\\.\n",
    "\n",
    "La base de datos se las paso internamente en SECIU porque contiene datos del SGB y no es conveniente ventilarla a internet por más que sean datos viejos.\n",
    "\n",
    "4.   ingenieria.db (base de datos sqlite3)\n",
    "\n",
    "\n",
    "  a la raíz del directorio donde se encuentra este notebook."
   ]
  },
  {
   "cell_type": "code",
   "execution_count": null,
   "metadata": {
    "id": "TpbrFqLtzMJk"
   },
   "outputs": [],
   "source": [
    "# importamos paquetes basicos\n",
    "import pandas as pd\n",
    "import numpy as np\n",
    "import matplotlib.pyplot as plt\n",
    "import seaborn as sns\n",
    "\n",
    "\n"
   ]
  },
  {
   "cell_type": "code",
   "execution_count": null,
   "metadata": {
    "id": "HkiXWeeizDoi"
   },
   "outputs": [],
   "source": [
    "# Escribe tu código a continuación y presiona Shift+Enter para ejecutar\n"
   ]
  },
  {
   "cell_type": "markdown",
   "metadata": {
    "id": "VLGTKmHEsYh_"
   },
   "source": [
    "<h2 id=\"csv\">Importando datos csv</h2>\n",
    "\n",
    "Vamos a limpiar un archivo de serie de datos temporales proveniente de un instrumento de medicion que opero 24/7 durante cierto periodo de tiempo.\n",
    "\n",
    "Para este ejercicio es necesario cargar el archivo *'datos_2025-03-17 QRO.csv'* y realizar las siguientes tareas:\n",
    "\n",
    "1. Leer solo las primeras cinco columnas y eliminar las comillas que aparecen en todos lados.\n",
    "\n",
    "2. Fundir la 1a y 2da columnas y convertirla al formato DateTime ('YYYY-mm-dd HH:MM:SS') usando la `strfmtime()` con  fmt=(%Y-%m-%d %H:%M:%S)\n",
    "\n",
    "3. Convertir el tipo de datos en cada columna restante a tipo float y mantisa de dos decimales (%.2f)\n",
    "\n",
    "4. Cambiar las etiquetas de Columna por 'DateTime', 'GIC', 'Temp1', 'Temp2'.\n",
    "\n",
    "5. Cambiar los NO DATA (\"NO DATA\") por NaN\n",
    "\n",
    "6. Exportar el resultado final a un archivo llamado 'GIC_QRO.csv'  con el metodo `.to_csv()` de Pandas\n",
    "\n",
    "un modelo de la salida final se muestra en la imagen abajo.\n",
    "\n",
    "**Sugerencia:** Mucha cosa ya se puede hacer usando los wildcards al usar el metodo `read_csv()` de Pandas durante la importacion del archivo.\n",
    "\n",
    "A modo de ejemplo el archivo deberia verse asi:\n",
    "\n",
    "Datetime,gic,T1,T2\\\n",
    "2024-01-01 00:00:00,5.62,30.25\\\n",
    "2024-01-01 00:01:00,4.99,29.87\\\n",
    "2024-01-01 00:02:00,4.99,29.87\\\n",
    "2024-01-01 00:03:00,5.62,30.62\\\n",
    "2024-01-01 00:04:00,5.62,30.37"
   ]
  },
  {
   "cell_type": "markdown",
   "metadata": {
    "id": "U4vSu4ZzzxyO"
   },
   "source": [
    "<h2 id='estbas'>Estadísticas Básicas de un Dataset</h2>\n",
    "\n",
    "Aplicando los métodos:\n",
    " `.head()`, `.tail()`, `.info()` y `.describe()` sobre el dataset procesado. Saquen toda la info que se pueda extraer:\\\n",
    "(e.g., que período de tiempo abarca el dataset, estadísticas de valores, etc.)\n",
    "\n",
    "Cargar el paquete **missingno** y realizar los gráficos del slide #40 de la clase 4 con título **\"Inspección Visual\"**."
   ]
  },
  {
   "cell_type": "markdown",
   "metadata": {
    "id": "hZ66gr-H1asS"
   },
   "source": [
    "<h2 id='xls'>Cargando un archivo Excel</h2>\n",
    "\n",
    "Cargar el archivo:  *literacy_birth_rate.xlsx* y realizar las siguientes tareas:\n",
    "\n",
    "1. Considerar las siguientes columnas unicamente:\n",
    "(Country, Continent, Female Literacy, Fertility, Population)\n",
    "ponerlas como estan escritas aqui.\n",
    "\n",
    "2. Los nombre de país están en Francés: hacer un reemplazo en masa por nombres en Español, ídem para los continentes, los acrónimos son 'raros', hay más continentes de los que son.\\\n",
    " (sugerencia: usar un diccionario para hacer las sustitutciones y el google translate para la lista de países.)\n",
    "\n",
    "3. Ver si hay datos faltantes e Imputar en la medida que se pueda. Vean las estadísticas de cada pais afectado en Wikipedia\\.\n",
    "\n",
    " En los casos que no, los datos faltantes deben ser rellenos con NaN.\n",
    "\n",
    "4. Exporten la salida a un nuevo archivo .xlsx con los datos limpios\n",
    "(nombrenlo a su gusto).\n",
    "\n"
   ]
  },
  {
   "cell_type": "code",
   "execution_count": null,
   "metadata": {
    "id": "V02QnJX58Zed"
   },
   "outputs": [],
   "source": [
    "# Escribe tu código a continuación y presiona Shift+Enter para ejecutar\n"
   ]
  },
  {
   "cell_type": "markdown",
   "metadata": {
    "id": "uutbffa0E2KW"
   },
   "source": [
    "<h2 id='json'> Cargando un achivo Json</h2>\n",
    "\n",
    "Abrir el archivo *mtcars.json* y asignarlo a un DatafFrame  usando el metodo `.read_json()`\n",
    "\n",
    "Usar `.head()`,  `.info()` y `.describe()` para explorar el archivo.\n",
    "\n",
    "Este archivo se usara para construir un modelo de ML en las próximas prácticas.\n",
    "\n",
    "Grafiquen una matriz de correlación para visualizar posibles relaciones entre las variables."
   ]
  },
  {
   "cell_type": "code",
   "execution_count": null,
   "metadata": {
    "id": "2Ur9V7ucE0sS"
   },
   "outputs": [],
   "source": [
    "# Escribe tu código a continuación y presiona Shift+Enter para ejecutar\n"
   ]
  },
  {
   "cell_type": "markdown",
   "metadata": {
    "id": "vEwgcu4gHOWC"
   },
   "source": [
    "<h2 id='bdacc'>Accediendo a una Base de Datos Relacional</h2>\n",
    "\n",
    "En este caso usaremos una base de datos SQLite3 conteniendo datos del SGB correspondiente a las carreras de Ingeniería.\n",
    "El objetivo es elaborar un conector con **SQLAlchemy**  y accesar la base.\n",
    "\n",
    "Realizar las siguientes tareas:\n",
    "\n",
    "1. Listar las tablas de la base\n",
    "\n",
    "2. Realizar una consulta SQL simple que genere un listado de los estudiantes de carreras de ingeniería en Computación  (plan 97) que ingresaron en el año 2000.  Y que no  sean cambio de plan (i.e,. PorCambioPlan=N)\\\n",
    "\n",
    "Consultar en la tabla *carreras*  el código de carrera y el ciclo correspondiente para Ing. en Computación plan 1997.\n",
    "\n",
    "3. Cargar la consulta en un DataFrame  y aplicar métodos para obtener estadísticas básicas.\n",
    "Hacer un boxplot con `seaborn` que visualice la distribución de asignaturas salvadas por cada alumno en ese período 2000-2006. *(tabla activ2)*\n",
    "\n",
    "4. Repetir la consulta anterior pero discriminando los resultados por Montevideo e interior. Visualizar ambas estadísticas en cada caso.\n",
    "\n",
    "En las cuatro celdas siguientes se dan ejemplos de como explorar una base SQLite3 con **SQLAlchemy**"
   ]
  },
  {
   "cell_type": "markdown",
   "metadata": {
    "id": "s65Yz7Z6HQB0"
   },
   "source": [
    "**Importante**\n",
    "\n",
    "Recuerden que las bases SQLite son autcontenidas y en este caso no tiene control de acceso. Se puede bajar el ejecutable y una Gui basica desde www.sqlite.org. para casi todos los S/O.\n",
    "En linux el sqlite3 el comando y se ejecuta desde el shell  \n",
    "\n",
    "En su shell nativo hay unos comandos basicos para saber:\n",
    "\n",
    "* `.help` : la ayuda  \n",
    "* `.tables` muestra las tablas\n",
    "* `.headers on` : despliega los encabezados de los campos en cada tabla\n",
    "* `.schema` : para ver la estructura de las tablas y vistas\n",
    "* `.output FILE `:  redirige la salida de la query a un archivo\n",
    "llamado FILE, si FILE se omite la salida es la consola.\n",
    "\n",
    "\n",
    "\n"
   ]
  },
  {
   "cell_type": "markdown",
   "metadata": {
    "id": "NH2rH_NrCOP-"
   },
   "source": [
    "# **Listar las tablas en una Base de datos relacional**\n",
    "\n",
    "\n",
    "   1. Se importa la biblioteca `sqlalchemy` como `sa` para acceder a sus funciones.\n",
    "   2.  Se crea un objeto `engine` usando `create_engine()` para establecer una conexión con la base de datos SQLite. Asegúrate de reemplazar 'ingenieria.db' con el nombre real de tu base de datos.\n",
    "   3. Se llama al método `table_names()` en el objeto `engine` para obtener una lista de los nombres de las tablas en la base de datos.\n",
    "   4. Finalmente, se itera sobre la lista `table_names` e imprime cada nombre de tabla.\n"
   ]
  },
  {
   "cell_type": "code",
   "execution_count": null,
   "metadata": {
    "id": "FcHRS1yCB_-i"
   },
   "outputs": [],
   "source": [
    "import sqlalchemy as sa\n",
    "\n",
    "# Crea un motor de base de datos\n",
    "engine = sa.create_engine('sqlite:///ingenieria.db')  # Reemplaza 'tu_base_de_datos.db' con el nombre de tu archivo de base de datos\n",
    "\n",
    "# Obtén los nombres de las tablas\n",
    "table_names = engine.table_names()\n",
    "\n",
    "# Imprime los nombres de las tablas\n",
    "for table_name in table_names:\n",
    "    print(table_name)"
   ]
  },
  {
   "cell_type": "markdown",
   "metadata": {
    "id": "DvDS_SPY_qfd"
   },
   "source": [
    "# **Explorar la estructura de una tabla la base de datos con sqlalchemy**\n",
    "\n",
    "Razonamiento:\n",
    "\n",
    "   1. Importamos la librería sqlalchemy como sa para un acceso más corto.\n",
    "   2. Creamos un objeto engine que representa la conexión a la base de datos SQLite. Debes reemplazar 'mibase.db' con el nombre real de tu archivo de base de datos.\n",
    "   3. Creamos un objeto `MetaData` que almacenará información sobre las tablas en tu base de datos.\n",
    "   4. Usamos `metadata.reflect(bind=engine)` para leer la estructura de la base de datos y almacenar la información en el objeto metadata.\n",
    "   5. Accedemos a la tabla deseada por su nombre usando `metadata.tables[table_name]`. Reemplaza `'tu_tabla'` con el nombre real de tu tabla.\n",
    "   6. Iteramos a través de las columnas de la tabla y imprimimos el nombre y el tipo de cada columna.\n",
    "   7. Finalmente imprimimos la sentencia `CREATE TABLE` de la tabla elegida.\n",
    "\n",
    "Consideraciones:\n",
    "\n",
    "    * Asegúrate de tener instalado SQLAlchemy: pip install sqlalchemy\n",
    "    * Reemplaza los nombres de la base de datos y la tabla con los tuyos.\n",
    "    * El código imprimirá información sobre cada columna de la tabla.\n",
    "\n",
    "Ver el codigo abajo"
   ]
  },
  {
   "cell_type": "code",
   "execution_count": null,
   "metadata": {
    "id": "_LV3qzFuK6If"
   },
   "outputs": [],
   "source": [
    "import sqlalchemy as sa\n",
    "\n",
    "# Crear el motor de la base de datos\n",
    "engine = sa.create_engine('sqlite:///mibase.db')  # Reemplaza 'mibase.db' con el nombre de tu archivo de base de datos\n",
    "\n",
    "# Obtener la metadata de la base de datos\n",
    "metadata = sa.MetaData()\n",
    "metadata.reflect(bind=engine)  # Reflejamos las tablas existentes en la metadata\n",
    "\n",
    "# Obtener la tabla por su nombre\n",
    "table_name = 'tu_tabla'  # Reemplaza 'tu_tabla' con el nombre de la tabla que deseas inspeccionar\n",
    "table = metadata.tables[table_name]\n",
    "\n",
    "# Imprimir el esquema de la tabla\n",
    "for column in table.columns:\n",
    "    print(f\"Column: {column.name}, Type: {column.type}\")\n",
    "\n",
    "# Imprimir la instruccion CREATE TABLE\n",
    "\n",
    "print(table.create(engine))"
   ]
  },
  {
   "cell_type": "markdown",
   "metadata": {
    "id": "vSPErwaUHPLA"
   },
   "source": [
    "Idea de solución en las celdas debajo\n",
    "\n",
    "\n"
   ]
  },
  {
   "cell_type": "code",
   "execution_count": null,
   "metadata": {
    "id": "ukryKEZ1PgdL"
   },
   "outputs": [],
   "source": [
    "\n",
    "# Escribe tu código a continuación y presiona Shift+Enter para ejecutar"
   ]
  },
  {
   "cell_type": "markdown",
   "metadata": {
    "id": "_R95IqwVe2sY"
   },
   "source": [
    "Doble click <b>aquí</b> para ver un ejemplo de solución\n",
    "<!--\n",
    "from sqlalchemy import create_engine, MetaData\n",
    "import pandas as pd\n",
    "\n",
    "#0 creo el conector al motor de BD\n",
    "engine = create_engine('sqlite:///ingenieria.db')\n",
    "\n",
    "#1 -  Listo todas las tablas de la base y las imprimo en pantalla\n",
    "tables = engine.table_names()\n",
    "print(tables)\n",
    "-->"
   ]
  },
  {
   "cell_type": "markdown",
   "metadata": {
    "id": "WrMfunsWRPmz"
   },
   "source": [
    "Doble click <b>aquí</b> para ver un ejemplo de solución\n",
    "<!--\n",
    "# Listo los campos de la tabla carreras\n",
    "\n",
    "# Obtengo la metadata de la base de datos\n",
    "metadata = MetaData()\n",
    "metadata.reflect(bind=engine)  # Reflejamos las tablas existentes en la metadata\n",
    "\n",
    "# Obtengo la tabla por su nombre\n",
    "table_name = 'carreras'\n",
    "table = metadata.tables[table_name]\n",
    "\n",
    "# Imprimie el esquema de la tabla\n",
    "for column in table.columns:\n",
    "    print(f\"Column: {column.name}, Type: {column.type}\")\n",
    "\n",
    "# El dato requerido es: la Carrera=72 y el ciclo = 0\n",
    "-->"
   ]
  },
  {
   "cell_type": "markdown",
   "metadata": {
    "id": "5rkIMbUJReka"
   },
   "source": [
    "Doble click <b>aquí</b> para ver un ejemplo de solución\n",
    "<!--\n",
    "\n",
    "# Alternativa 'facil': Hago una consulta simple por plan para ver los campos\n",
    "df = pd.read_sql_query(\"SELECT * from carreras\", engine)\n",
    "\n",
    "-->"
   ]
  },
  {
   "cell_type": "markdown",
   "metadata": {
    "id": "p-caRyp3QmWn"
   },
   "source": [
    "Doble click <b>aquí</b> para ver un ejemplo de solución\n",
    "<!--\n",
    "\n",
    "# Saco todos los estudiantes de computación que ingresaron en 2000 de la tabla estcarr\n",
    "f = pd.read_sql_query(\"SELECT * from estcarr where  Carrera=72 and Fechaing like ´20000%´ and PorCambioPlan='N'\", engine)\n",
    "-->\n"
   ]
  },
  {
   "cell_type": "markdown",
   "metadata": {
    "id": "MSJS_mSuQaDk"
   },
   "source": [
    "Doble click <b>aquí</b> para ver un ejemplo de solución\n",
    "<!--\n",
    "\n",
    "# Estadísticas básicas de df\n",
    "\n",
    "df.info()\n",
    "\n",
    "df.describe()\n",
    "\n",
    "df.head()\n",
    "-->"
   ]
  },
  {
   "cell_type": "markdown",
   "metadata": {
    "id": "YrcjbjF_fn53"
   },
   "source": [
    "<h2 id='filter'>Filtrando un Dataframe Pandas</h2>\n",
    "\n",
    "#### Métodos de Filtrado\n",
    "\n",
    "\n",
    "\n",
    "1.   **Indexación Booleana:** Es el método mas común. Se crea una máscara booleana basada en una condición y se la aplica al DataFrame.\n",
    "\n",
    "\n"
   ]
  },
  {
   "cell_type": "code",
   "execution_count": null,
   "metadata": {
    "id": "huoNs__teSqd"
   },
   "outputs": [],
   "source": [
    "import pandas as pd\n",
    "\n",
    "   # Sample DataFrame\n",
    "   data = {'Name': ['Alice', 'Bob', 'Charlie', 'David'],\n",
    "           'Age': [25, 30, 22, 28],\n",
    "           'City': ['New York', 'London', 'Paris', 'Tokyo']}\n",
    "   df = pd.DataFrame(data)\n",
    "\n",
    "   # Filter rows where Age is greater than 25\n",
    "   filtered_df = df[df['Age'] > 25]\n",
    "\n",
    "   # Para ver la salida, ejecute el código."
   ]
  },
  {
   "cell_type": "markdown",
   "metadata": {
    "id": "EwID3fefg8hZ"
   },
   "source": [
    "**Razonamiento:**\n",
    "\n",
    "`df['Age'] > 25 ` crea una serie booleana (True/False) donde True indica filas que cumplen la condición. El uso de esta serie dentro de `df[...]` selecciona solo las filas con valores verdaderos.\n",
    "\n",
    "\n",
    "2.   **Método query():** Proporciona una forma más legible de filtrar usando expresiones.\n",
    "\n"
   ]
  },
  {
   "cell_type": "code",
   "execution_count": null,
   "metadata": {
    "id": "5vKD4rz2hzpL"
   },
   "outputs": [],
   "source": [
    "filtered_df = df.query('Age > 25 and City == \"London\"')\n",
    "\n",
    "  # Para ver la salida, ejecute el código."
   ]
  },
  {
   "cell_type": "markdown",
   "metadata": {
    "id": "2sUzRHWBh-fC"
   },
   "source": [
    "**Razonamiento:**\n",
    " La condición se escribe como una expresión de cadena. Los nombres de las columnas se pueden usar directamente `.loc()` e `.iloc()`: Estos descriptores de acceso se pueden combinar con la indexación booleana.\n",
    "\n",
    "\n",
    "\n",
    "3.  ** Métodos loc() & iloc():** Estos descriptores de acceso se pueden combinar con la indexación booleana.\n",
    "\n",
    "\n"
   ]
  },
  {
   "cell_type": "code",
   "execution_count": null,
   "metadata": {
    "id": "DbnrPh4FicmI"
   },
   "outputs": [],
   "source": [
    "# Filter using loc and a boolean condition\n",
    "   filtered_df = df.loc[df['Age'] > 25, ['Name', 'City']]\n",
    "\n",
    "   # Para ver la salida, ejecute el código."
   ]
  },
  {
   "cell_type": "markdown",
   "metadata": {
    "id": "0To29et6iluX"
   },
   "source": [
    "**Razonamiento:**\n",
    "\n",
    "`.loc()` se utiliza para la indexación basada en etiquetas. El primer argumento selecciona filas, el segundo argumento selecciona columnas.\n",
    "\n",
    "\n",
    "\n",
    "3.   **Método .isin():** Útil para filtrar en base a una lista de valores\n",
    "\n",
    "\n"
   ]
  },
  {
   "cell_type": "code",
   "execution_count": null,
   "metadata": {
    "id": "41gWFO8pi_QF"
   },
   "outputs": [],
   "source": [
    "cities = ['London', 'Paris']\n",
    "   filtered_df = df[df['City'].isin(cities)]\n",
    "\n",
    " # Para ver la salida, ejecute el código."
   ]
  },
  {
   "cell_type": "markdown",
   "metadata": {
    "id": "HyTq1XnmnZhg"
   },
   "source": [
    "**Razonamiento:**\n",
    "\n",
    "`.isin()` comprueba si cada valor de la columna está presente en la lista especificada.\n",
    "\n",
    "4.**Método filter()** en Pandas DataFrames se utiliza para subconjuntos de filas o columnas según las etiquetas de índice especificadas."
   ]
  },
  {
   "cell_type": "code",
   "execution_count": null,
   "metadata": {
    "id": "jQTtmtPcoBf_"
   },
   "outputs": [],
   "source": [
    "import pandas as pd\n",
    "\n",
    "# Crear un DataFrame de ejemplo\n",
    "data = {'Name': ['Alice', 'Bob', 'Charlie', 'David'],\n",
    "        'Age': [25, 30, 22, 28],\n",
    "        'City': ['New York', 'London', 'Paris', 'Tokyo']}\n",
    "df = pd.DataFrame(data)\n",
    "\n",
    "# Filtrar columnas por nombre\n",
    "filtered_df = df.filter(items=['Name', 'Age'])\n",
    "\n",
    "# Para ver la salida, ejecute el código.\n",
    "\n",
    "# Filtrar filas por índice (eje=0)\n",
    "filtered_df = df.filter(like='li', axis=0)\n",
    "\n",
    "# Para ver la salida, ejecute el código."
   ]
  },
  {
   "cell_type": "code",
   "execution_count": null,
   "metadata": {
    "id": "QIFsAi3ly_BN"
   },
   "outputs": [],
   "source": []
  }
 ],
 "metadata": {
  "colab": {
   "provenance": []
  },
  "kernelspec": {
   "display_name": "Python 3 (ipykernel)",
   "language": "python",
   "name": "python3"
  },
  "language_info": {
   "codemirror_mode": {
    "name": "ipython",
    "version": 3
   },
   "file_extension": ".py",
   "mimetype": "text/x-python",
   "name": "python",
   "nbconvert_exporter": "python",
   "pygments_lexer": "ipython3",
   "version": "3.11.2"
  }
 },
 "nbformat": 4,
 "nbformat_minor": 1
}
